{
 "cells": [
  {
   "cell_type": "markdown",
   "metadata": {},
   "source": [
    "## 05"
   ]
  },
  {
   "cell_type": "markdown",
   "metadata": {},
   "source": [
    "```{c++}\n",
    "class Foo {\n",
    "  Foo() = default;\n",
    "  Foo(const Foo&) = default;                 //copy constructor\n",
    "  Foo& operator = (const Foo&) = default;    //copy assignment\n",
    "  Foo(Foo&&) = default;                      //move constructor\n",
    "  Foo& operator = (Foo&&) = default;         //move assignment\n",
    "```\n",
    "\n",
    "Then there can be *shallow* or *deep* copies.\n",
    "\n",
    "\n",
    "If I define a `struct` I can exploit constructors. The move constructor was introduced in C++11. NOTE: if I have a structure `X`, `X x1` creates does not initialize, while `X x1{}` does since it calls the default constructor on each member of the class/struct. This is true iif the default constructor is `Foo() = default` and only for built-in types. A custom type with a custom constructur would be uninitialized in both cases. Nowadays (since C++11) you can put `= delete` to delete a constructor, back in the days you had to put a constructor private. Example: if I try to copy a `unique_ptr` I get an error, since the concept of ownership is implemented by the deletion of the copy constructor.\n",
    "\n",
    "When you build a *custom default constructor* it is default since it can be called without any arguments, custom since it is hard coded.\n",
    "\n",
    "What if I want to use aggregate initialization with in-class-inizialiers? In standard C++11 you could not do it, in C++14 you can. If I want to \"delete\" it, I can put all the members private. \n",
    "\n",
    "NOTE: a constructor that can accept just one argument should be marked with `explicit`, since it basically turns one type to another: I want to avoid typos to be accepted, maybe because of some implicit rules of conversion. A constructor called with just one argument is something like an implicit cast."
   ]
  },
  {
   "cell_type": "markdown",
   "metadata": {},
   "source": [
    "Range-for can be implemented in custom types via the sentinel approach: when a pointer is one past the last one element of an array/list/... you stop ranging. \n",
    "\n",
    "In a *shallow copy* if you modify the copy or the original the other gets modified too. A shallow copy copies the contents: the content of a pointer is an address, so I get another element pointing to the same memory location. To cope with this they introduced a *copy on write* approach, which means creating a copy when I modify the shallow copy I have made. C++11 makes things easier. \n",
    "\n",
    "NOTE: Sometimes the default constructor is not `Foo() = default`, by default. You may need to force it.\n",
    "\n"
   ]
  },
  {
   "cell_type": "markdown",
   "metadata": {},
   "source": [
    "If I want I can implement a *deep copy*, where elements are equal but addresses are not. It is much slower than a shallow copy. In the examples presented operator overloading is exploited to let `=` deal with vectors. It is not necessary, one can implement both shallow and hard copy using the function name or something. \n",
    "\n",
    "Note that there are different approach: should I compare sizes and let the two results be of the same size? Or do I want to do an hard reset and just be sure to obtain two identical vectors? Design choices. \n",
    "\n",
    "```\n",
    "get();       // returns a pointer to the location.\n",
    "reset();     // returns void. If called with a pointer it will point and own such object.\n",
    "release();   // returns a pointer AND releases the ownership. It may lead to memory leaks. \n",
    "```"
   ]
  },
  {
   "cell_type": "markdown",
   "metadata": {},
   "source": [
    "**Move semantics**\n",
    "Let's assume the copy constructor and assignment to properly work and produce a deep copy. \n",
    "\n",
    "This\n",
    "```\n",
    "template<class T>\n",
    "void swap(T& t1, T& ts){\n",
    "  auto tmp = t2; // copy constructor\n",
    "  t2 = t1; // copy assignmnent\n",
    "  t1 = tmp; // copy assignmnent\n",
    "```\n",
    " does work, but requires a lot of copying.\n",
    " \n",
    " ```\n",
    "template<class T>\n",
    "void swap(T& t1, T& ts){\n",
    "  auto tmp = std::move(t2);\n",
    "  t2 = std::move(t1);\n",
    "  t1 = std::move(tmp);\n",
    "```\n",
    "\n",
    "This just moves the pointers, so it will be faster. If you have pointers it is easy to understand, it gets harder with custom objects/classes: you can think of doing it element by element. It can be quite easily done by hand, but adding an element to the class requires adding it to the move constructor too. The default constructor is usually preferable. Move semantics are not prone to raise exceptions: you can't run out of memory singe you are not really copying things: there are no calls to `new`.\n",
    "\n",
    "\n",
    "NOTE: differences between R-value and L-value references. R and L refer to the right and left sides of an assignment. \n",
    "\n",
    "```\n",
    "auto b = Vector<int>{3}\n",
    "```\n",
    "\n",
    "The right side will be thrown away after the asignment: here move semantics come in handy. Another instance:\n",
    "\n",
    "```\n",
    "Vector<int> v3{std::move(v1)};\n",
    "```\n",
    "\n",
    "will force move, but `v1` will then be in an uninitialized state; a destructor can be safely called anyways.\n",
    "\n",
    "\n",
    "\n",
    "`this` is a special pointer every class has: it points to itself. "
   ]
  },
  {
   "cell_type": "code",
   "execution_count": null,
   "metadata": {},
   "outputs": [],
   "source": []
  },
  {
   "cell_type": "code",
   "execution_count": null,
   "metadata": {},
   "outputs": [],
   "source": []
  }
 ],
 "metadata": {
  "kernelspec": {
   "display_name": "Python 3",
   "language": "python",
   "name": "python3"
  },
  "language_info": {
   "codemirror_mode": {
    "name": "ipython",
    "version": 3
   },
   "file_extension": ".py",
   "mimetype": "text/x-python",
   "name": "python",
   "nbconvert_exporter": "python",
   "pygments_lexer": "ipython3",
   "version": "3.7.0"
  }
 },
 "nbformat": 4,
 "nbformat_minor": 2
}
