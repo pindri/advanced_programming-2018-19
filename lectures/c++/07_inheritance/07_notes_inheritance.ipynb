{
 "cells": [
  {
   "cell_type": "markdown",
   "metadata": {},
   "source": [
    "## Lesson 07 - inheritance"
   ]
  },
  {
   "cell_type": "markdown",
   "metadata": {},
   "source": [
    "While *class composition* is a \"has a\", with *class inheritance* we want something like \"is a\"."
   ]
  },
  {
   "cell_type": "markdown",
   "metadata": {},
   "source": [
    "```00_first_trial.cc```\n",
    "\n",
    "If you create a class `Animal`, you may think to add a class `Dog` which has a member of type `Animal`. But this is wrong from a conceptual point of view: a dog **is** an animal. Code repetition is an issue too. "
   ]
  },
  {
   "cell_type": "markdown",
   "metadata": {},
   "source": [
    "```01_inheritance.cc```\n",
    "\n",
    "You can inherit in a `public`, `protected` or `private` way (just the same as for class members). A child class is always greater than its base class. The constructor of a derived class constructs the base class first, then adds whatever the derived class has to add. The destructor works the other way around. So you **need** to call the constructor of the base class first, and then the specific derived class constructor. \n",
    "\n",
    "Templates can be used to implement *polymorphism*, which is a *static* one. But a dog, or a snake, are both animals: you can exploit run-time (*dynamic*) polymorphism by using a reference/pointer to an element of the base class. In this particular case the dynamic case is not implemented. "
   ]
  },
  {
   "cell_type": "markdown",
   "metadata": {},
   "source": [
    "`02_virtual.cc`\n",
    "\n",
    "`virtual` is the trigger that activate dynamic polymorphism, every function that may be called by a derived class has a `virtual` qualifier. The destructor is `virtual` too. NOTE: even if the destructor does nothing, it should be marked `virtual` anyways. A virtual function can be then overrided by `override`, which is a contestual keyword that looks for the function to override: in case of a typo or an error the compiler complains. NOTE: if I want to override a function and use what was previously defined I need to use the fully qualifing name, or else a will enter in an infinite loop. \n",
    "\n",
    "Run-time polymorphism is convenient from a computational point of view: a template will generate all the possible functions each time, in this case only one function is generated."
   ]
  },
  {
   "cell_type": "markdown",
   "metadata": {},
   "source": [
    "`03_virtual_destructor.cc`\n",
    "\n",
    "Why do I need to mark the destructor with `virtual`? If a class have a virtual function, it is meant to be derived: the constructor itself should be ment to be derived. There is no need to mark the derived destructor as virtual."
   ]
  },
  {
   "cell_type": "markdown",
   "metadata": {},
   "source": [
    "`04_private.cc`\n",
    "\n",
    "Adding a poor (?) (initialized to zero) virtual function sets the class to *abstract*. Before c++11 you could use `typename` to create aliases. Now you can use `using newvalue = newtype`. Moreover, `using` can be templated. You can do something like:\n",
    "\n",
    "```\n",
    "template<int j, int i, class T>\n",
    "class matrix { ... }\n",
    "\n",
    "template <int i, clas T>\n",
    "using vector = matrix <1, i, T>\n",
    "\n",
    "```"
   ]
  },
  {
   "cell_type": "markdown",
   "metadata": {},
   "source": [
    "`05_dynamic_cast.cc`\n",
    "\n",
    "Can be used to get some info you won't have at compile time."
   ]
  },
  {
   "cell_type": "markdown",
   "metadata": {},
   "source": [
    "Functions that are implemented in the `cc` file will never be inlined. If you implement that in the `.h` file that can happend. As a drawback, changing a function from the header file means you need to recompile all the source files. So: small functions that will not change can be put in the header, big functions should be put into source files. "
   ]
  }
 ],
 "metadata": {
  "kernelspec": {
   "display_name": "Python 3",
   "language": "python",
   "name": "python3"
  },
  "language_info": {
   "codemirror_mode": {
    "name": "ipython",
    "version": 3
   },
   "file_extension": ".py",
   "mimetype": "text/x-python",
   "name": "python",
   "nbconvert_exporter": "python",
   "pygments_lexer": "ipython3",
   "version": "3.7.0"
  }
 },
 "nbformat": 4,
 "nbformat_minor": 2
}
