{
 "cells": [
  {
   "cell_type": "markdown",
   "metadata": {},
   "source": [
    "## Lesson 03"
   ]
  },
  {
   "cell_type": "markdown",
   "metadata": {},
   "source": [
    "**`01_auto.cc`**\n",
    "\n",
    "`auto` was introduced in C++11: when the compiler can deduce the type of a variable at compile time:\n",
    "```c++\n",
    "auto aa = init<double>(20);\n",
    "```\n",
    "so now `aa` will be of the type `init` returns. NOTE: do not use the curly brackets declaration when using `auto`.\n",
    "\n",
    "How can I know if the compiler correcly assigned the type? I should ask him: if I force an error it prints back what he is reading. E.g. I can create a function but not implement it, and ask in the main to use it on the variable I want to investigate. The compiler will complain and print the type of the variable. \n",
    "\n",
    "Since c++14 `auto` can be used even as a return type in a function.\n",
    "\n",
    "You can initialize an array using:\n",
    "```c++\n",
    "new T[lenght]{};\n",
    "```\n",
    "which is just like `malloc` in C, it initializes the array to $0$.\n",
    "\n",
    "\n",
    "\n",
    "NOTE: whatever begins with an hash is read by the preprocessor.\n",
    "```console\n",
    "c++ -E file.cc\n",
    "```\n",
    "prints the the output of the preprocessor."
   ]
  },
  {
   "cell_type": "markdown",
   "metadata": {},
   "source": [
    "**`02_const_and_pointers.cc`**\n",
    "\n",
    "```c++\n",
    "const int* pc = &a;\n",
    "*pc = 7; //ERROR\n",
    "```\n",
    "this does not allow to modify the value pointed by pc. It is a pointer to constant integer.\n",
    "\n",
    "```c++\n",
    "int* const pc = &a;\n",
    "*pc = 7; //OK\n",
    "pc = &b; //ERROR\n",
    "```\n",
    "this does not allow to modify the address of pc. It is a constant pointer to an integer. You can combine both things to create a constant pointer to a constant integer. Of course in all three cases you can do:\n",
    "```c++\n",
    "a = 99;\n",
    "```\n",
    "Pointers to element in an array: there are serveral run trough their elements. `a[i]` $\\equiv$ `*(&a[0] + i)` $\\equiv$ `*(a + 1)` $\\equiv$ `i[a]`. "
   ]
  },
  {
   "cell_type": "markdown",
   "metadata": {},
   "source": [
    "**`03_special_pointer.cc`**\n",
    "\n",
    "You can make pointer arrays using:\n",
    "\n",
    "```c++\n",
    "int* ap[7];\n",
    "```\n",
    "\n",
    "Pointers to void need to be casted before using them. Until then you cannot dereference the pointer or do arithmetic with it. It can accept a pointer to whatever, but I have to perform a `static_cast` before.\n",
    "\n",
    "A null pointer can be written by:\n",
    "```c++\n",
    "pv = nullptr; //DO NOT use NULL\n",
    "```\n",
    "When is it useful? When I create, let's say, a dynamic array and then `delete[]` it, the array is still saved on the *stack* and still points to the memory in *heap* it used to own. Now that region of memory can be used by the OS, but if I want the array not to point there anymore I can assign it `nullptr`.\n"
   ]
  },
  {
   "cell_type": "markdown",
   "metadata": {},
   "source": [
    "Pointers to functions:\n",
    "```c++\n",
    "int (*fp)(const char*);\n",
    "```\n",
    "The parentheses are mandatory, or the compiler will understand you are giving the definition of a function. I can use either the name of the function or its address:\n",
    "```c++\n",
    "fp = funct1;\n",
    "fp = &funct2;\n",
    "```"
   ]
  },
  {
   "cell_type": "markdown",
   "metadata": {},
   "source": [
    "**`04_command_line_args.cc`**\n",
    "\n",
    "`main()` can actually accept arguments. `char* argv[]` contains the arguments (it is an array of characters stars, or a pointer to pointer to char), while `argc` counts them. The first element is the name of the executable, while the following cointain the eventual flags. "
   ]
  },
  {
   "cell_type": "markdown",
   "metadata": {},
   "source": [
    "**`05_matrices.cc`**\n",
    "\n",
    "```c++\n",
    "int ma[6][5]; //matrix: 6 rows and 5 columns\n",
    "```\n",
    "A matrix is stored as a long array, row by row. This syntax is easy to read, but if you want to pass a matrix to a function the number of columns must be known at compile time, which is ugly and not flexible. Instead\n",
    "```c++\n",
    "int* d_ma = new int[6 * 5]{};\n",
    "```\n",
    "is better."
   ]
  },
  {
   "cell_type": "markdown",
   "metadata": {},
   "source": [
    "**`06_std_arrays.cc`**\n",
    "\n",
    "They live in the *stack*, which is faster than the *heap* but limited (some MB, compared to serveral GB of RAM). Their size must be known at compile time.\n",
    "```c++\n",
    "std::array<type, dimension> a{};\n",
    "```\n",
    "\n",
    "A good thing is that you can copy-construct an array:\n",
    "\n",
    "```c++\n",
    "std::array<type, dimension> b{a};\n",
    "```\n",
    "\n",
    "And newer version of C++ implement Python-like loops, where you can do range-for loops.\n",
    "This container (just like any other container provided by the standard librady) allows bound check.\n",
    "\n",
    "```c++\n",
    "a.at(90); //if that location is not allowed the program prints an error\n",
    "```\n"
   ]
  },
  {
   "cell_type": "markdown",
   "metadata": {},
   "source": [
    "**`07_std_vector.cc`**\n",
    "\n",
    "This is an array of unknown size, it should be our first choice. It lives in the *heap*. You can increase its size at run time."
   ]
  }
 ],
 "metadata": {
  "kernelspec": {
   "display_name": "Python 3",
   "language": "python",
   "name": "python3"
  },
  "language_info": {
   "codemirror_mode": {
    "name": "ipython",
    "version": 3
   },
   "file_extension": ".py",
   "mimetype": "text/x-python",
   "name": "python",
   "nbconvert_exporter": "python",
   "pygments_lexer": "ipython3",
   "version": "3.7.0"
  }
 },
 "nbformat": 4,
 "nbformat_minor": 2
}
