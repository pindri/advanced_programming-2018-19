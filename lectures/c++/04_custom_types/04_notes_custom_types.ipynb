{
 "cells": [
  {
   "cell_type": "markdown",
   "metadata": {},
   "source": [
    "## Lesson 04"
   ]
  },
  {
   "cell_type": "markdown",
   "metadata": {},
   "source": [
    "A type is a specific interpretation and implmementation of a concept. Custom types are useful to deal with complex concepts."
   ]
  },
  {
   "cell_type": "markdown",
   "metadata": {},
   "source": [
    "**`01_enum.cc`**\n",
    "\n",
    "`enum` is a way to generate constants with different numbers, and a type to recognize different options\n",
    "\n",
    "`switch` can be used only with integers, characters or enum. It is a bit archaic but makes a quite readable code.\n",
    "\n",
    "Note that, even if enum is an integer, an integer cannot be assigned to an enum variable. The other way around is possible."
   ]
  },
  {
   "cell_type": "markdown",
   "metadata": {},
   "source": [
    "**`02_scoped_enum.cc`**\n",
    "\n",
    "In C++11 they introduced the possibility to create scopes of enum. You can then resolve the scopes using the double semicolon. It is useful because you can have constants with same names but different scopes whitout confusion. Note that scoped enum do not implicitly convert to integers. You can force that anyways."
   ]
  },
  {
   "cell_type": "markdown",
   "metadata": {},
   "source": [
    "**`04_namespace.cc`**\n",
    "\n",
    "You can create your own namespaces, even nested ones. You can both use the fully qualifing names or open the namespaces with curly braces and then use the short names. You can use `using namespace ns_name` too."
   ]
  },
  {
   "cell_type": "markdown",
   "metadata": {},
   "source": [
    "**`05_struct_class.cc`**\n",
    "\n",
    "C++ was also called *C with classes*. `struct`, in C, can only contain data. In C++ struct and `class` are the same thing. By default members of a struct are pubblic, while members of a class are private. Both can contain both data and functions. They are basically the same. Note that even if you can define function inside classes it make your program heavier: they are put inline. If I have a big function I do not want that. If you declare the function outside the class then it gets referenced, not copiet when executed. The compiler may put some short functions inline anyways.\n",
    "\n",
    "Why sould I need to make data private? Maybe I want to have some control over some variables. I make those variables private, then I use a pubblic function to control that variable.\n",
    "\n",
    "\n",
    "NOTE: in C++ you usually put semicolons at the end of declarations. You access the functions of a structure as if it was a namespace.\n",
    "\n",
    "If I have a class, an *object* is an instantiation of a class.\n",
    "\n",
    "Be aware that variables in classes are allocated in the order they are written."
   ]
  },
  {
   "cell_type": "markdown",
   "metadata": {},
   "source": [
    "**`06_constructor_destructor.cc`**\n",
    "\n",
    "You can have as many constructors as you want but only one destructor.\n",
    "\n",
    "Constructors are special functions. They are defined as function but without a `return` type and they have the same name of a class. More constructos can have the same name if they accept different arguments (*function overloading*).\n",
    "\n",
    "Using constructors: use curled braces, since it is a universal syntax.\n",
    "\n",
    "For a constructor outside a `struct`\n",
    "\n",
    "```c++\n",
    "struct_name::construct_name(...): here_the_constructors\n",
    "{\n",
    "here_I_can_change_values;\n",
    "or_use_functions;\n",
    "}\n",
    "\n",
    "```\n",
    "\n",
    "You can overload operators as well.\n",
    "\n",
    "Because what happends is\n",
    "\n",
    "```c++\n",
    "int a = 5;\n",
    "std::cout << a << \"ciao\";\n",
    "\n",
    "```\n",
    "\n",
    "actually does:\n",
    "\n",
    "```c++\n",
    "operator<<(operator<<(std::cout, a));\n",
    "```\n",
    "\n",
    "So I can overload the function `operator<<`."
   ]
  },
  {
   "cell_type": "code",
   "execution_count": null,
   "metadata": {},
   "outputs": [],
   "source": []
  }
 ],
 "metadata": {
  "kernelspec": {
   "display_name": "Python 3",
   "language": "python",
   "name": "python3"
  },
  "language_info": {
   "codemirror_mode": {
    "name": "ipython",
    "version": 3
   },
   "file_extension": ".py",
   "mimetype": "text/x-python",
   "name": "python",
   "nbconvert_exporter": "python",
   "pygments_lexer": "ipython3",
   "version": "3.7.0"
  }
 },
 "nbformat": 4,
 "nbformat_minor": 2
}
