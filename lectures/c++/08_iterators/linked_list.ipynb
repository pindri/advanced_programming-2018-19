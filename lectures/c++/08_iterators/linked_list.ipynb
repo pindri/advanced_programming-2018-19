{
 "cells": [
  {
   "cell_type": "markdown",
   "metadata": {},
   "source": [
    "## linked list, iterators and data hiding"
   ]
  },
  {
   "cell_type": "markdown",
   "metadata": {},
   "source": [
    "The class `List` is templated on the type of the element it contains. A list is made of single blocks, of `Node` type. But, is the class a *block* or does the class have blocks? Do we actually need a single block type? Should the block be private or pubblic? The list is made to store values, the way we store it is a technicality that the user do not need to see. The user should not even know what a node is, since he just wants to store values. \n",
    "\n",
    "A class `Node` should look like:\n",
    "```{c++}\n",
    "template<class T>\n",
    "class Node\n",
    "```\n",
    "where `T` will be the type of the element it stores. But if `T` is the same type on which the `List` is templated, maybe it would make sense to declare it inside the list, so that it won't need any template. THis will be a *nested class*. In this case all the symbols of the `List` class are available by `Node`, but only the pubblic symbols of `Node` can be seen by `List`. \n",
    "\n",
    "Our list will live on the heap, we will deal with memory allocation and deallocation. Maybe unique pointers are better since a node only points to the next one and is only pointed to by the previous one. The constructor of a node should take a value and a pointer to the next node. The default destructor is ok."
   ]
  },
  {
   "cell_type": "markdown",
   "metadata": {},
   "source": [
    "Our list will need a `push_front` function, to add an element at the beginning of the list. The list has a pointer to its first element, it better be another unique pointer to a node. But I want a `push_back` function too, and maybe other push-function. Maybe a more general `push` function is easier for the user, easier to maintain and easier to expand. So putting `push_front` and `push_back` private may be a good idea. The `push` function should take a value and a scoped enum, to deal with the \"method\" we want to use to push values. The use of the scoped enum is convenient since we mey want to define a second push that takes a value and a position: since scoped enum are not implicitly converted to integers (enum are) you can implement the two functions without conflict.\n",
    "\n",
    "Note that all the push methods will have a common case: if you push to an empty list you should create the first element. The first element is the last element too, so it should point to `nullptr`. \n",
    "\n",
    "NOTE: `head` is a non built in type, so the default constructor of the list calls the default constructor of the element, it will not be left uninitialized. \n",
    "\n",
    "```\n",
    "void push_front(const T& t){\n",
    "  auto old = head.release();\n",
    "  auto tmp - new Note{t,old};\n",
    "  head.reset(tmp);\n",
    "}\n",
    "```\n",
    "Note that I need to relase the ownership of head, or else pushing front a new node will destroy the node `head` is pointing to and then reset `head` to the new node. \n",
    "\n",
    "NOTE: `tmp->next != nullptr` does not need the `.get()`, since the operator is implemented in order to \"get\" implicitly. "
   ]
  },
  {
   "cell_type": "markdown",
   "metadata": {},
   "source": [
    "In order to \"see\" the list, we could write some printing function. Or we can overload the operator `<<`. Note that in principle I could not see private data inside my list; we can add a `friend` to our list and tell the compiler that a certain function can get access to private data. At first operator overload is quite ugly, but it gets better when we implement iterators. The idea is you may not want do provide the implementation details of your classes.  "
   ]
  },
  {
   "cell_type": "markdown",
   "metadata": {},
   "source": [
    "An **iterator** is a generalized pointer. It allows you to move from one data to another, overloading the dereference operator, the comparison operator and the arrow operator: the syntax you can use with pointers, you can use with iterators too. An iterator could implement the `++` operator too. Pos increment can be implemented too, but it is slower since it needs to create a new element. The basic implementation of iterators is ok: why do we need const iterators? To double check when I am changing a value using an iterator: the compiler will help me complaining that I am trying to change a constant value. "
   ]
  }
 ],
 "metadata": {
  "kernelspec": {
   "display_name": "Python 3",
   "language": "python",
   "name": "python3"
  },
  "language_info": {
   "codemirror_mode": {
    "name": "ipython",
    "version": 3
   },
   "file_extension": ".py",
   "mimetype": "text/x-python",
   "name": "python",
   "nbconvert_exporter": "python",
   "pygments_lexer": "ipython3",
   "version": "3.7.0"
  }
 },
 "nbformat": 4,
 "nbformat_minor": 2
}
