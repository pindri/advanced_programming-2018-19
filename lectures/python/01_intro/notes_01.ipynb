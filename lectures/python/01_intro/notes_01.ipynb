{
 "cells": [
  {
   "cell_type": "markdown",
   "metadata": {},
   "source": [
    "## Notes 01"
   ]
  },
  {
   "cell_type": "markdown",
   "metadata": {},
   "source": [
    "Some of the features Python has, come from *ABC*, a programming language designed for entry level programmers. Indentation is one of those features. Python is almost as old as c++, but a completely different language: Python is an *interpreted* language, while c++ is a *compiled* language. Python is a language (it has its documentation that states how it behaves), the most used implementation of Python is *CPython*, which is written in C. Not to be confused with *Cython*, a Python package that is useful for optimization.\n",
    "\n",
    "Python allocates and deallocates memory on its own. You do not need to call `new` or `delete`."
   ]
  },
  {
   "cell_type": "markdown",
   "metadata": {},
   "source": [
    "Different ways to use Python:\n",
    " * Shell. A quick way to check if sintax is correct.\n",
    " * File. By convenction they end with *.py*.\n",
    " * Jupyter notebook. \n",
    " \n",
    " \n",
    "In Python everything is an object, and Python is a dinamically typed language: `print()` is a function, but `print = 1` is totally fine, and now `print` is an integer."
   ]
  },
  {
   "cell_type": "markdown",
   "metadata": {},
   "source": [
    "In Python3 all the divisions return a float. "
   ]
  },
  {
   "cell_type": "markdown",
   "metadata": {},
   "source": [
    "Inside one of the default classes, there are the *magic* or *dunder* methods. These should not explicitely called.\n",
    "\n",
    "`dir()` prints all the known *symbols* of an object."
   ]
  },
  {
   "cell_type": "markdown",
   "metadata": {},
   "source": []
  }
 ],
 "metadata": {
  "kernelspec": {
   "display_name": "Python 3",
   "language": "python",
   "name": "python3"
  },
  "language_info": {
   "codemirror_mode": {
    "name": "ipython",
    "version": 3
   },
   "file_extension": ".py",
   "mimetype": "text/x-python",
   "name": "python",
   "nbconvert_exporter": "python",
   "pygments_lexer": "ipython3",
   "version": "3.7.0"
  }
 },
 "nbformat": 4,
 "nbformat_minor": 2
}
