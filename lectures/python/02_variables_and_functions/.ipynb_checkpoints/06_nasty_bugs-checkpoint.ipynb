{
 "cells": [
  {
   "cell_type": "markdown",
   "metadata": {},
   "source": [
    "### free vars"
   ]
  },
  {
   "cell_type": "code",
   "execution_count": 1,
   "metadata": {},
   "outputs": [
    {
     "data": {
      "text/plain": [
       "49"
      ]
     },
     "execution_count": 1,
     "metadata": {},
     "output_type": "execute_result"
    }
   ],
   "source": [
    "def define_methods(number):\n",
    "    methods = []                       \n",
    "    for i in range(number):     \n",
    "        methods.append(lambda var: 2*var + i )\n",
    "    return methods\n",
    "funcs = define_methods(10)\n",
    "\n",
    "funcs[2](20) # expect 2*20 + 2"
   ]
  },
  {
   "cell_type": "code",
   "execution_count": 2,
   "metadata": {},
   "outputs": [
    {
     "data": {
      "text/plain": [
       "42"
      ]
     },
     "execution_count": 2,
     "metadata": {},
     "output_type": "execute_result"
    }
   ],
   "source": [
    "def define_methods(number):\n",
    "    methods = []                       \n",
    "    for i in range(number):     \n",
    "        methods.append(lambda var,i=i: 2*var + i )\n",
    "    return methods\n",
    "funcs = define_methods(10)\n",
    "\n",
    "funcs[2](20) # expect 2*20 + 2"
   ]
  },
  {
   "cell_type": "markdown",
   "metadata": {},
   "source": [
    "###  (mutable) default values\n",
    "The only mode pf parameter passing in Python is **call by sharing**."
   ]
  },
  {
   "cell_type": "code",
   "execution_count": 12,
   "metadata": {},
   "outputs": [
    {
     "name": "stdout",
     "output_type": "stream",
     "text": [
      "['you visited func function']\n"
     ]
    }
   ],
   "source": [
    "def func(a=[]):\n",
    "    a += ['you visited func function']\n",
    "    return a\n",
    "\n",
    "l_default = func()\n",
    "print(l_default)"
   ]
  },
  {
   "cell_type": "code",
   "execution_count": 13,
   "metadata": {},
   "outputs": [
    {
     "name": "stdout",
     "output_type": "stream",
     "text": [
      "['under control', 'you visited func function']\n"
     ]
    }
   ],
   "source": [
    "l_custom = func(['under control'])\n",
    "print(l_custom)"
   ]
  },
  {
   "cell_type": "code",
   "execution_count": 14,
   "metadata": {},
   "outputs": [
    {
     "name": "stdout",
     "output_type": "stream",
     "text": [
      "['you visited func function', 'you visited func function']\n",
      "['you visited func function', 'you visited func function', 'ciao']\n"
     ]
    }
   ],
   "source": [
    "OMG = func()\n",
    "print(OMG)\n",
    "OMG.append('ciao')\n",
    "print(OMG)"
   ]
  },
  {
   "cell_type": "code",
   "execution_count": 15,
   "metadata": {},
   "outputs": [
    {
     "data": {
      "text/plain": [
       "['you visited func function', 'you visited func function', 'ciao']"
      ]
     },
     "execution_count": 15,
     "metadata": {},
     "output_type": "execute_result"
    }
   ],
   "source": [
    "l_default"
   ]
  },
  {
   "cell_type": "markdown",
   "metadata": {},
   "source": [
    "###  None"
   ]
  },
  {
   "cell_type": "code",
   "execution_count": 16,
   "metadata": {},
   "outputs": [],
   "source": [
    "def func(a=None):\n",
    "    '''returns a list'''\n",
    "    if a:\n",
    "        a = list(a) + ['you visited func function']\n",
    "    else:\n",
    "        a = ['you visited func function']\n",
    "    return a\n"
   ]
  },
  {
   "cell_type": "code",
   "execution_count": 17,
   "metadata": {},
   "outputs": [
    {
     "data": {
      "text/plain": [
       "['first', 2, 'you visited func function']"
      ]
     },
     "execution_count": 17,
     "metadata": {},
     "output_type": "execute_result"
    }
   ],
   "source": [
    "a = func(('first',2))\n",
    "a"
   ]
  },
  {
   "cell_type": "code",
   "execution_count": null,
   "metadata": {},
   "outputs": [],
   "source": []
  }
 ],
 "metadata": {
  "kernelspec": {
   "display_name": "Python 3",
   "language": "python",
   "name": "python3"
  },
  "language_info": {
   "codemirror_mode": {
    "name": "ipython",
    "version": 3
   },
   "file_extension": ".py",
   "mimetype": "text/x-python",
   "name": "python",
   "nbconvert_exporter": "python",
   "pygments_lexer": "ipython3",
   "version": "3.7.0"
  }
 },
 "nbformat": 4,
 "nbformat_minor": 2
}
