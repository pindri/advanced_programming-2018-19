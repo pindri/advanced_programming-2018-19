{
 "cells": [
  {
   "cell_type": "markdown",
   "metadata": {},
   "source": [
    "### Better understanding variables"
   ]
  },
  {
   "cell_type": "markdown",
   "metadata": {},
   "source": [
    "If I say `import my_module` somewhere, locally, that phyton file must be present. Importing a module creates a namespace (you need the fully qualifing name) which can be assigned to an alias, importing a function puts it in the global namespace, you can just call it. If you import all with `*`, you can call without the namespace-name. NOTE: `*` imports all that is contained in the `__all__=['','',...]` list. If that is not defined, that it means 'import everything'. Printing `sys.path` shows the directories in which Python looks for module. The first one is empty and represents the current directory (it is the firt to be checked). \n",
    "\n",
    "The first time a module is imported, it generates a `.pyc` file, which is a binary file that can be imported and executed. It is useful not at run-time but at import-time, it is some sort of optimization on population of the namespace."
   ]
  },
  {
   "cell_type": "markdown",
   "metadata": {},
   "source": [
    "Jupyter notebook chaches what has been loaded. A simple `%reset -f` does not restart the kernel, so if I import a module and then delete the `.pyc` file, it will not get created at a sequent import. That is because it has been cached. If I want an *actual* import, I need to restart the kernel. "
   ]
  },
  {
   "cell_type": "markdown",
   "metadata": {},
   "source": [
    "A Phyton package is just a collection of modules in a folder. For every package (every folder actually), you need an `__init__.py` file, it can be empty but it must be present. "
   ]
  },
  {
   "cell_type": "markdown",
   "metadata": {},
   "source": [
    "The function annotation goes between the variable name and the default value. Thre return type gets put after an arrow:\n",
    "\n",
    "```\n",
    "def complicated_function(text:str, max_len:'int>0'=80) -> str:\n",
    "    '''documentation for complicated_function'''\n",
    "    pass\n",
    "\n",
    "```\n",
    "Note, this is by no means a type checking, it will accept everything. "
   ]
  },
  {
   "cell_type": "markdown",
   "metadata": {},
   "source": [
    "There a are global, local and *free* variables. They are *non local variables* (neither local nor global, just non local). The difference is, mutable and immutable objects are quite different, so `_sum` and `_count` are variables names, not freevar."
   ]
  },
  {
   "cell_type": "markdown",
   "metadata": {},
   "source": [
    "**Copies and comparison**\n",
    "\n",
    "`==` performs a comparison by value\n",
    "\n",
    "`is` checks if the elements are labels of the same objects: basically it calls `id` on both objects and checks if the result is the same. `id` returns an integer number which should be different for every object (note, it is implementation dependent). \n",
    "\n",
    "The mess hapends with mitable objects; numbers are fine, but when I copy lists (and shallow is the default) baad things append: the list inside the list is not really copied, but just *pointed* to.\n",
    "\n",
    "The module `copy` cointains the funcitons `copy`, which is again a shallow copy, and `deepcopy` which, finally, is a deep copy. \n"
   ]
  },
  {
   "cell_type": "markdown",
   "metadata": {},
   "source": [
    "A lambda function creates a closure and, in the first example, captures `i` as a free variable. So the reference is updated every time, and the last value of `i` was $9$, so I get $49$ every time. What I need to do is create a local copy so that every method does not have a free variable and everuthing works as expected: bottom line is check if something does not work as espected. "
   ]
  },
  {
   "cell_type": "markdown",
   "metadata": {},
   "source": [
    "Mess happends is you use a mutable as a default: the first time you create the `func()` an empty list is created. But then I append something which is put with the default (is the same object) and them my default is not what I would expect. The solution is using `none`. "
   ]
  }
 ],
 "metadata": {
  "kernelspec": {
   "display_name": "Python 3",
   "language": "python",
   "name": "python3"
  },
  "language_info": {
   "codemirror_mode": {
    "name": "ipython",
    "version": 3
   },
   "file_extension": ".py",
   "mimetype": "text/x-python",
   "name": "python",
   "nbconvert_exporter": "python",
   "pygments_lexer": "ipython3",
   "version": "3.7.0"
  }
 },
 "nbformat": 4,
 "nbformat_minor": 2
}
