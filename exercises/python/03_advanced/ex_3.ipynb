{
 "cells": [
  {
   "cell_type": "markdown",
   "metadata": {},
   "source": [
    "### myrange"
   ]
  },
  {
   "cell_type": "code",
   "execution_count": 19,
   "metadata": {},
   "outputs": [],
   "source": [
    "class MyRange():\n",
    "    \"\"\" Acts like `range` \"\"\"\n",
    "    def __init__(self, start, stop, step = 1):\n",
    "        self.myrng = range(start, stop, step)\n",
    "\n",
    "\n",
    "def myrange(*args): # treats arguments as a tuple\n",
    "    \"\"\" Acts like `range` \"\"\"\n",
    "    n_arguments = len(args)\n",
    "    if n_arguments not in [1,2,3]:\n",
    "        raise TypeError(\"myrange only accepts 1 to 3 arguments\")\n",
    "    if n_arguments == 1:\n",
    "        return MyRange(0,args[0]).myrng\n",
    "    if n_arguments == 2:\n",
    "        return MyRange(args[0], args[1]).myrng\n",
    "    if n_arguments == 3:\n",
    "        return MyRange(args[0], args[1], args[2]).myrng\n"
   ]
  },
  {
   "cell_type": "code",
   "execution_count": 20,
   "metadata": {},
   "outputs": [
    {
     "name": "stdout",
     "output_type": "stream",
     "text": [
      "myrange(5)\n",
      "0\n",
      "1\n",
      "2\n",
      "3\n",
      "4\n",
      "myrange(2,4)\n",
      "2\n",
      "3\n",
      "myrange(5,12,3)\n",
      "5\n",
      "8\n",
      "11\n",
      "myrange(12,5,-3)\n",
      "12\n",
      "9\n",
      "6\n"
     ]
    }
   ],
   "source": [
    "print(\"myrange(5)\")\n",
    "for i in myrange(5):\n",
    "    print(i)\n",
    "    \n",
    "print(\"myrange(2,4)\")\n",
    "for i in myrange(2,4):\n",
    "    print(i)\n",
    "\n",
    "print(\"myrange(5,12,3)\")\n",
    "for i in myrange(5,12,3):\n",
    "    print(i)\n",
    "    \n",
    "print(\"myrange(12,5,-3)\")\n",
    "for i in myrange(12,5,-3):\n",
    "    print(i)"
   ]
  },
  {
   "cell_type": "markdown",
   "metadata": {},
   "source": [
    "### Context Manager"
   ]
  },
  {
   "cell_type": "code",
   "execution_count": 22,
   "metadata": {},
   "outputs": [
    {
     "name": "stdout",
     "output_type": "stream",
     "text": [
      "Elapsed time:  0.010406005000000107\n"
     ]
    }
   ],
   "source": [
    "import time\n",
    "\n",
    "class Timer():\n",
    "    def __enter__(self):\n",
    "        self.start = time.process_time()\n",
    "        \n",
    "    def __exit__(self, e_type, e_value, traceback):\n",
    "        self.end = time.process_time()\n",
    "        elapsed_time = self.end - self.start\n",
    "        print(\"Elapsed time: \",elapsed_time)\n",
    "        \n",
    "count = 0        \n",
    "with Timer() as t:\n",
    "    for i in range (100000):\n",
    "        count += 1\n",
    "    "
   ]
  },
  {
   "cell_type": "code",
   "execution_count": null,
   "metadata": {},
   "outputs": [],
   "source": []
  }
 ],
 "metadata": {
  "kernelspec": {
   "display_name": "Python 3",
   "language": "python",
   "name": "python3"
  },
  "language_info": {
   "codemirror_mode": {
    "name": "ipython",
    "version": 3
   },
   "file_extension": ".py",
   "mimetype": "text/x-python",
   "name": "python",
   "nbconvert_exporter": "python",
   "pygments_lexer": "ipython3",
   "version": "3.7.0"
  }
 },
 "nbformat": 4,
 "nbformat_minor": 2
}
